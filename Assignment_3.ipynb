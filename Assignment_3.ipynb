{
 "cells": [
  {
   "cell_type": "markdown",
   "metadata": {},
   "source": [
    "# Assignment_3 Python"
   ]
  },
  {
   "cell_type": "markdown",
   "metadata": {},
   "source": [
    "## 1) Why are functions advantageous to have in your programs?\n",
    "\n",
    "Functions reduce the need for duplicate code. \n",
    "\n",
    "This makes programs shorter, easier to read, and easier to update."
   ]
  },
  {
   "cell_type": "markdown",
   "metadata": {},
   "source": [
    "## 2) When does the code in a function run: when it's specified or when it's called?\n",
    "\n",
    "A function is a block of code which only runs when it is called."
   ]
  },
  {
   "cell_type": "markdown",
   "metadata": {},
   "source": [
    "## 3) What statement creates a function?\n",
    "\n",
    "def new(arg1, arg2):\n",
    "\n",
    "The “def” keyword is a statement for defining a function in Python.\n",
    "\n",
    "You start a function with the def keyword, specify a name followed by a colon (:) sign.\n",
    "\n",
    "The “def” call creates the function object and assigns it to the name given.\n",
    "\n",
    "You can further re-assign the same function object to other names."
   ]
  },
  {
   "cell_type": "markdown",
   "metadata": {},
   "source": [
    "## 4) What is the difference between a function and a function call?\n",
    "\n",
    "A function is procedure to achieve a particular result while function call is using this function to achive that task.\n",
    "\n",
    "A function is the simplest callable object in Python."
   ]
  },
  {
   "cell_type": "code",
   "execution_count": 2,
   "metadata": {},
   "outputs": [
    {
     "data": {
      "text/plain": [
       "'45 is greater than 30'"
      ]
     },
     "execution_count": 2,
     "metadata": {},
     "output_type": "execute_result"
    }
   ],
   "source": [
    "def find_max(a,b):       # function find_max\n",
    "    if(a > b):\n",
    "        return str(a) + \" is greater than \" + str(b)\n",
    "    elif(b > a):\n",
    "        return str(b) + \" is greater than \" + str(a)\n",
    "    \n",
    "find_max(30, 45)        # function call find_max with required number of arguments"
   ]
  },
  {
   "cell_type": "markdown",
   "metadata": {},
   "source": [
    "## 5) How many global scopes are there in a Python program? How many local scopes?\n",
    "\n",
    "There’s only one global Python scope per program execution. \n",
    "\n",
    "This scope remains in existence until the program terminates and all its names are forgotten.\n",
    "\n",
    "Every time you call a function, you create a new local scope—a namespace where names created inside the function usually live."
   ]
  },
  {
   "cell_type": "markdown",
   "metadata": {},
   "source": [
    "## 6) What happens to variables in a local scope when the function call returns?"
   ]
  },
  {
   "cell_type": "markdown",
   "metadata": {},
   "source": [
    "A return statement ends the execution of the function call and \"returns\" the result, \n",
    "\n",
    "i.e. the value of the expression following the return keyword, to the caller. \n",
    "\n",
    "If the return statement is without an expression, the special value None is returned. \n",
    "\n",
    "If there is no return statement in the function code, the function ends, \n",
    "\n",
    "when the control flow reaches the end of the function body and the value None will be returned.\n",
    "\n",
    "The variable y only exists while the function is being executed — we call this its lifetime. \n",
    "\n",
    "**When the execution of the function terminates (returns), the local variables are destroyed.**"
   ]
  },
  {
   "cell_type": "markdown",
   "metadata": {},
   "source": [
    "## 7) What is the concept of a return value? Is it possible to have a return value in a expression?\n",
    "\n",
    "A return statement is used to end the execution of the function call and “returns” the result (value of the expression following the return keyword) to the caller. \n",
    "\n",
    "The statements after the return statements are not executed. \n",
    "\n",
    "If the return statement is without any expression, then the special value None is returned.\n",
    "\n",
    "Yes, It is possible to have expression following return."
   ]
  },
  {
   "cell_type": "markdown",
   "metadata": {},
   "source": [
    "## 8) If a function does not have a return statement, what is the return value of a call to that function?\n",
    "\n",
    "If a function does not have a return statement, the return value of a call to that function will be **None**"
   ]
  },
  {
   "cell_type": "code",
   "execution_count": 6,
   "metadata": {},
   "outputs": [
    {
     "name": "stdout",
     "output_type": "stream",
     "text": [
      "None\n"
     ]
    }
   ],
   "source": [
    "def car(x,y):\n",
    "    x = x**2\n",
    "    y = y**3\n",
    "    # return x,y\n",
    "\n",
    "c = car(3,4)\n",
    "print(c)"
   ]
  },
  {
   "cell_type": "markdown",
   "metadata": {},
   "source": [
    "## 9) How do you make a function variable refer to the global variable?\n",
    "\n",
    "If you want to refer to a global variable in a function, you can use the global keyword to declare which variables are global."
   ]
  },
  {
   "cell_type": "code",
   "execution_count": 10,
   "metadata": {},
   "outputs": [
    {
     "name": "stdout",
     "output_type": "stream",
     "text": [
      "5\n"
     ]
    }
   ],
   "source": [
    "myGlobal = 5\n",
    "\n",
    "def func1():\n",
    "    myGlobal = 42\n",
    "\n",
    "def func2():\n",
    "    print(myGlobal)\n",
    "\n",
    "func1()\n",
    "func2()"
   ]
  },
  {
   "cell_type": "markdown",
   "metadata": {},
   "source": [
    "## 10) What is the data type of None?\n",
    "\n",
    "In Python, None keyword is an object, and it is a data type of the class NoneType . We can assign None to any variable, but you can not create other NoneType objects."
   ]
  },
  {
   "cell_type": "code",
   "execution_count": 11,
   "metadata": {},
   "outputs": [
    {
     "data": {
      "text/plain": [
       "NoneType"
      ]
     },
     "execution_count": 11,
     "metadata": {},
     "output_type": "execute_result"
    }
   ],
   "source": [
    "type(None)"
   ]
  },
  {
   "cell_type": "markdown",
   "metadata": {},
   "source": [
    "## 11) What does the sentence import areaallyourpetsnamederic do?"
   ]
  },
  {
   "cell_type": "markdown",
   "metadata": {},
   "source": [
    "Importing refers to allowing a Python file or a Python module to access the script from another Python file or module. \n",
    "\n",
    "You can only use functions and properties your program can access. For instance, if you want to use mathematical functionalities, you must import the math package first. \n",
    "\n",
    "This is because you must define everything you want to use in Python before you use them."
   ]
  },
  {
   "cell_type": "markdown",
   "metadata": {},
   "source": [
    "## 12) If you had a bacon() feature in a spam module, what would you call it after importing spam?\n",
    "\n",
    "from spam import bacon"
   ]
  },
  {
   "cell_type": "markdown",
   "metadata": {},
   "source": [
    "## 13) What can you do to save a programme from crashing if it encounters an error?\n",
    "\n",
    "If an error occurs in a program, we don’t want the program to unexpectedly crash on the user. \n",
    "\n",
    "Instead, error handling can be used to notify the user of why the error occurred and gracefully exit the process that caused the error."
   ]
  },
  {
   "cell_type": "markdown",
   "metadata": {},
   "source": [
    "## 14) What is the purpose of the try clause? What is the purpose of except clause?\n",
    "\n",
    "The try block lets you test a block of code for errors.\n",
    "\n",
    "The except block lets you handle the error.\n",
    "\n",
    "The finally block lets you execute code, regardless of the result of the try- and except blocks."
   ]
  },
  {
   "cell_type": "code",
   "execution_count": 12,
   "metadata": {},
   "outputs": [
    {
     "name": "stdout",
     "output_type": "stream",
     "text": [
      "An exception occurred\n"
     ]
    }
   ],
   "source": [
    "try:\n",
    "    print(x)\n",
    "except:\n",
    "    print(\"An exception occurred\")"
   ]
  },
  {
   "cell_type": "code",
   "execution_count": null,
   "metadata": {},
   "outputs": [],
   "source": []
  }
 ],
 "metadata": {
  "kernelspec": {
   "display_name": "Python 3",
   "language": "python",
   "name": "python3"
  },
  "language_info": {
   "codemirror_mode": {
    "name": "ipython",
    "version": 3
   },
   "file_extension": ".py",
   "mimetype": "text/x-python",
   "name": "python",
   "nbconvert_exporter": "python",
   "pygments_lexer": "ipython3",
   "version": "3.8.5"
  }
 },
 "nbformat": 4,
 "nbformat_minor": 4
}
