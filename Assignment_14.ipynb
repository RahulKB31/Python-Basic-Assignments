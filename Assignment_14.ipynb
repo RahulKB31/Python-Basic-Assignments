{
 "cells": [
  {
   "cell_type": "code",
   "execution_count": null,
   "metadata": {},
   "outputs": [],
   "source": [
    "#1) What does RGBA stand for?"
   ]
  },
  {
   "cell_type": "markdown",
   "metadata": {},
   "source": [
    "RGBA stands for \"Red, Green, Blue, Alpha"
   ]
  },
  {
   "cell_type": "code",
   "execution_count": null,
   "metadata": {},
   "outputs": [],
   "source": [
    "#2) From the Pillow module, how do you get the RGBA value of any images?"
   ]
  },
  {
   "cell_type": "markdown",
   "metadata": {},
   "source": [
    "To get the RGBA (Red, Green, Blue, Alpha) value of pixels in an image using the Pillow (PIL) module in Python, you can use the `getdata()` method followed by pixel access using a loop. Here's how you can do it:\n",
    "\n",
    "```python\n",
    "from PIL import Image\n",
    "\n",
    "# Open an image using PIL\n",
    "image = Image.open('example.png')\n",
    "\n",
    "# Get the pixel data\n",
    "pixel_data = list(image.getdata())\n",
    "\n",
    "# Iterate through the pixels and access RGBA values\n",
    "for pixel in pixel_data:\n",
    "    red, green, blue, alpha = pixel\n",
    "    # Do something with the RGBA values (red, green, blue, alpha)\n",
    "```\n"
   ]
  },
  {
   "cell_type": "code",
   "execution_count": null,
   "metadata": {},
   "outputs": [],
   "source": [
    "#3) What is a box tuple, and how does it work?"
   ]
  },
  {
   "cell_type": "markdown",
   "metadata": {},
   "source": [
    "A \"box tuple\" refers to a tuple containing four values that define a rectangular region or bounding box within an image. The four values in the box tuple represent the coordinates of the left, upper, right, and lower edges of the rectangular region, respectively.\n",
    "\n",
    "The format of a box tuple is generally as follows:\n",
    "\n",
    "```python\n",
    "(left, upper, right, lower)\n",
    "```\n",
    "\n",
    "- `left`: The X-coordinate of the left edge of the rectangle.\n",
    "- `upper`: The Y-coordinate of the upper edge of the rectangle.\n",
    "- `right`: The X-coordinate of the right edge of the rectangle (exclusive, i.e., not included in the region).\n",
    "- `lower`: The Y-coordinate of the lower edge of the rectangle (exclusive).\n",
    "\n",
    "Here's how it works:\n",
    "\n",
    "- The `left` and `upper` coordinates define the top-left corner of the rectangular region.\n",
    "- The `right` and `lower` coordinates define the pixel position just outside the bottom-right corner of the rectangular region.\n",
    "\n",
    "You can use box tuples to define and manipulate rectangular regions within an image when performing various image processing tasks."
   ]
  },
  {
   "cell_type": "code",
   "execution_count": null,
   "metadata": {},
   "outputs": [],
   "source": [
    "#4) Use your image and load in notebook then, How can you find out the width and height of an Image object?"
   ]
  },
  {
   "cell_type": "markdown",
   "metadata": {},
   "source": [
    "   ```python\n",
    "   from PIL import Image\n",
    "\n",
    "   # Open an image\n",
    "   image = Image.open('example.jpg')\n",
    "   ```\n",
    "   ```python\n",
    "   # Get the width and height of the image\n",
    "   width, height = image.size\n",
    "\n",
    "   # Print the width and height\n",
    "   print(f\"Width: {width} pixels\")\n",
    "   print(f\"Height: {height} pixels\")\n",
    "   ```"
   ]
  },
  {
   "cell_type": "code",
   "execution_count": null,
   "metadata": {},
   "outputs": [],
   "source": [
    "#5) What method would you call to get Image object for a 100×100 image, excluding the lower-left quarter of it?"
   ]
  },
  {
   "cell_type": "markdown",
   "metadata": {},
   "source": [
    " ```python\n",
    "from PIL import Image\n",
    "\n",
    "# Open the original image\n",
    "original_image = Image.open('example_.jpg')\n",
    "\n",
    "# Define a box tuple for the upper-right three-quarters of the image\n",
    "box = (50, 0, 100, 50)  # (left, upper, right, lower)\n",
    "\n",
    "# Crop the image using the box tuple\n",
    "cropped_image = original_image.crop(box)\n",
    "\n",
    "# Save or display the cropped image\n",
    "cropped_image.save('cropped_example.jpg')\n",
    "```\n"
   ]
  },
  {
   "cell_type": "code",
   "execution_count": null,
   "metadata": {},
   "outputs": [],
   "source": [
    "#6) After making changes to an Image object, how could you save it as an image file?"
   ]
  },
  {
   "cell_type": "markdown",
   "metadata": {},
   "source": [
    "```python\n",
    "from PIL import Image\n",
    "\n",
    "# Open or create an Image object (for example)\n",
    "image = Image.new('RGB', (100, 100), color='white')\n",
    "\n",
    "# Make changes to the Image object as needed (e.g., draw shapes, apply filters, etc.)\n",
    "\n",
    "# Save the Image object as an image file\n",
    "image.save('output_image.jpg')  # Specify the desired file format and filename\n",
    "```"
   ]
  },
  {
   "cell_type": "code",
   "execution_count": null,
   "metadata": {},
   "outputs": [],
   "source": [
    "#7) What module contains Pillow’s shape-drawing code?"
   ]
  },
  {
   "cell_type": "markdown",
   "metadata": {},
   "source": [
    "\n",
    "```python\n",
    "from PIL import Image, ImageDraw\n",
    "\n",
    "# Create a new image\n",
    "image = Image.new('RGB', (300, 200), color='white')\n",
    "\n",
    "# Create a drawing context on the image\n",
    "draw = ImageDraw.Draw(image)\n",
    "\n",
    "# Draw a red rectangle\n",
    "draw.rectangle([50, 50, 250, 150], outline='red', width=2)\n",
    "\n",
    "# Draw a blue ellipse\n",
    "draw.ellipse([100, 75, 200, 125], outline='blue', width=2)\n",
    "\n",
    "# Draw text\n",
    "font = ImageFont.load_default()\n",
    "draw.text((10, 10), \"Hello, Pillow!\", fill='black', font=font)\n",
    "\n",
    "# Save or display the image\n",
    "image.save('drawn_image.jpg')\n",
    "```\n"
   ]
  },
  {
   "cell_type": "code",
   "execution_count": null,
   "metadata": {},
   "outputs": [],
   "source": [
    "#8) Image objects do not have drawing methods. What kind of object does? How do you get this kind of object?"
   ]
  },
  {
   "cell_type": "markdown",
   "metadata": {},
   "source": [
    "\n",
    "\n",
    "```python\n",
    "from PIL import Image, ImageDraw\n",
    "\n",
    "# Create an Image object\n",
    "image = Image.new('RGB', (300, 200), color='white')\n",
    "\n",
    "# Get an ImageDraw object for drawing on the image\n",
    "draw = ImageDraw.Draw(image)\n",
    "\n",
    "# Now, 'draw' is an ImageDraw object, and you can use its methods for drawing\n",
    "\n",
    "```"
   ]
  },
  {
   "cell_type": "code",
   "execution_count": null,
   "metadata": {},
   "outputs": [],
   "source": []
  }
 ],
 "metadata": {
  "kernelspec": {
   "display_name": "Python 3",
   "language": "python",
   "name": "python3"
  },
  "language_info": {
   "codemirror_mode": {
    "name": "ipython",
    "version": 3
   },
   "file_extension": ".py",
   "mimetype": "text/x-python",
   "name": "python",
   "nbconvert_exporter": "python",
   "pygments_lexer": "ipython3",
   "version": "3.8.5"
  }
 },
 "nbformat": 4,
 "nbformat_minor": 4
}
