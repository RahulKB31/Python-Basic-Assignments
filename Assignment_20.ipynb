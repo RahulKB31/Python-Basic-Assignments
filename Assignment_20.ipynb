{
 "cells": [
  {
   "cell_type": "code",
   "execution_count": null,
   "metadata": {},
   "outputs": [],
   "source": [
    "#1) Set the variable test1 to the string &#39;This is a test of the emergency text system,&#39; and save test1 to a\n",
    "# file named test.txt."
   ]
  },
  {
   "cell_type": "code",
   "execution_count": 1,
   "metadata": {},
   "outputs": [],
   "source": [
    "# Define the string\n",
    "test1 = 'This is a test of the emergency text system.'\n",
    "\n",
    "# Save test1 to a file named test.txt\n",
    "with open('test.txt', 'w') as file:\n",
    "    file.write(test1)"
   ]
  },
  {
   "cell_type": "code",
   "execution_count": null,
   "metadata": {},
   "outputs": [],
   "source": [
    "#2) Read the contents of the file test.txt into the variable test2. Is there a difference between test 1\n",
    "# and test 2?"
   ]
  },
  {
   "cell_type": "code",
   "execution_count": 2,
   "metadata": {},
   "outputs": [
    {
     "name": "stdout",
     "output_type": "stream",
     "text": [
      "test1 and test2 are the same.\n"
     ]
    }
   ],
   "source": [
    "# Read the contents of the file test.txt into the variable test2\n",
    "with open('test.txt', 'r') as file:\n",
    "    test2 = file.read()\n",
    "\n",
    "# Compare test1 and test2\n",
    "if test1 == test2:\n",
    "    print(\"test1 and test2 are the same.\")\n",
    "else:\n",
    "    print(\"test1 and test2 are different.\")"
   ]
  },
  {
   "cell_type": "code",
   "execution_count": null,
   "metadata": {},
   "outputs": [],
   "source": [
    "#3) Create a CSV file called books.csv by using these lines:\n",
    "# title,author,year\n",
    "# The Weirdstone of Brisingamen,Alan Garner,1960\n",
    "# Perdido Street Station,China Miéville,2000\n",
    "# Thud!,Terry Pratchett,2005\n",
    "# The Spellman Files,Lisa Lutz,2007\n",
    "# Small Gods,Terry Pratchett,1992"
   ]
  },
  {
   "cell_type": "code",
   "execution_count": 3,
   "metadata": {},
   "outputs": [
    {
     "name": "stdout",
     "output_type": "stream",
     "text": [
      "books.csv file has been created.\n"
     ]
    }
   ],
   "source": [
    "import csv\n",
    "\n",
    "# Define the data\n",
    "data = [\n",
    "    ['title', 'author', 'year'],\n",
    "    ['The Weirdstone of Brisingamen', 'Alan Garner', '1960'],\n",
    "    ['Perdido Street Station', 'China Miéville', '2000'],\n",
    "    ['Thud!', 'Terry Pratchett', '2005'],\n",
    "    ['The Spellman Files', 'Lisa Lutz', '2007'],\n",
    "    ['Small Gods', 'Terry Pratchett', '1992']\n",
    "]\n",
    "\n",
    "# Create and write to the CSV file\n",
    "with open('books.csv', 'w', newline='') as csvfile:\n",
    "    writer = csv.writer(csvfile)\n",
    "    writer.writerows(data)\n",
    "\n",
    "print(\"books.csv file has been created.\")"
   ]
  },
  {
   "cell_type": "code",
   "execution_count": null,
   "metadata": {},
   "outputs": [],
   "source": [
    "#4) Use the sqlite3 module to create a SQLite database called books.db, and a table called books with\n",
    "# these fields: title (text), author (text), and year (integer)."
   ]
  },
  {
   "cell_type": "code",
   "execution_count": 1,
   "metadata": {},
   "outputs": [
    {
     "name": "stdout",
     "output_type": "stream",
     "text": [
      "books.db database and 'books' table have been created.\n"
     ]
    }
   ],
   "source": [
    "import sqlite3\n",
    "\n",
    "# Connect to the SQLite database (or create it if it doesn't exist)\n",
    "conn = sqlite3.connect('books.db')\n",
    "\n",
    "# Create a cursor object to interact with the database\n",
    "cursor = conn.cursor()\n",
    "\n",
    "# Define the SQL query to create the 'books' table\n",
    "create_table_query = '''\n",
    "CREATE TABLE IF NOT EXISTS books (\n",
    "    title TEXT,\n",
    "    author TEXT,\n",
    "    year INTEGER\n",
    ")\n",
    "'''\n",
    "\n",
    "# Execute the SQL query to create the table\n",
    "cursor.execute(create_table_query)\n",
    "\n",
    "# Commit the changes and close the database connection\n",
    "conn.commit()\n",
    "conn.close()\n",
    "\n",
    "print(\"books.db database and 'books' table have been created.\")"
   ]
  },
  {
   "cell_type": "code",
   "execution_count": null,
   "metadata": {},
   "outputs": [],
   "source": [
    "#5) Read books.csv and insert its data into the book table."
   ]
  },
  {
   "cell_type": "code",
   "execution_count": 4,
   "metadata": {},
   "outputs": [
    {
     "name": "stdout",
     "output_type": "stream",
     "text": [
      "Data from books.csv has been inserted into the 'books' table in books.db.\n"
     ]
    }
   ],
   "source": [
    "import csv\n",
    "import sqlite3\n",
    "\n",
    "# Connect to the SQLite database (or create it if it doesn't exist)\n",
    "conn = sqlite3.connect('books.db')\n",
    "\n",
    "# Create a cursor object to interact with the database\n",
    "cursor = conn.cursor()\n",
    "\n",
    "# Read data from the books.csv file\n",
    "with open('books.csv', 'r') as csvfile:\n",
    "    reader = csv.reader(csvfile)\n",
    "    \n",
    "    # Skip the header row\n",
    "    next(reader)\n",
    "    \n",
    "    # Iterate through the CSV rows and insert them into the 'books' table\n",
    "    for row in reader:\n",
    "        title, author, year = row\n",
    "        cursor.execute(\"INSERT INTO books (title, author, year) VALUES (?, ?, ?)\", (title, author, int(year)))\n",
    "\n",
    "# Commit the changes and close the database connection\n",
    "conn.commit()\n",
    "conn.close()\n",
    "\n",
    "print(\"Data from books.csv has been inserted into the 'books' table in books.db.\")\n"
   ]
  },
  {
   "cell_type": "code",
   "execution_count": null,
   "metadata": {},
   "outputs": [],
   "source": [
    "#6) Select and print the title column from the book table in alphabetical order."
   ]
  },
  {
   "cell_type": "code",
   "execution_count": 5,
   "metadata": {},
   "outputs": [
    {
     "name": "stdout",
     "output_type": "stream",
     "text": [
      "Perdido Street Station\n",
      "Small Gods\n",
      "The Spellman Files\n",
      "The Weirdstone of Brisingamen\n",
      "Thud!\n"
     ]
    }
   ],
   "source": [
    "import sqlite3\n",
    "\n",
    "# Connect to the SQLite database\n",
    "conn = sqlite3.connect('books.db')\n",
    "\n",
    "# Create a cursor object to interact with the database\n",
    "cursor = conn.cursor()\n",
    "\n",
    "# Execute a SQL query to select the 'title' column in alphabetical order\n",
    "cursor.execute(\"SELECT title FROM books ORDER BY title ASC\")\n",
    "\n",
    "# Fetch all the results\n",
    "titles = cursor.fetchall()\n",
    "\n",
    "# Print the titles\n",
    "for title in titles:\n",
    "    print(title[0])\n",
    "\n",
    "# Close the database connection\n",
    "conn.close()"
   ]
  },
  {
   "cell_type": "code",
   "execution_count": null,
   "metadata": {},
   "outputs": [],
   "source": [
    "#7) From the book table, select and print all columns in the order of publication."
   ]
  },
  {
   "cell_type": "code",
   "execution_count": 6,
   "metadata": {},
   "outputs": [
    {
     "name": "stdout",
     "output_type": "stream",
     "text": [
      "title\tauthor\tyear\n",
      "The Weirdstone of Brisingamen\tAlan Garner\t1960\n",
      "Small Gods\tTerry Pratchett\t1992\n",
      "Perdido Street Station\tChina Miéville\t2000\n",
      "Thud!\tTerry Pratchett\t2005\n",
      "The Spellman Files\tLisa Lutz\t2007\n"
     ]
    }
   ],
   "source": [
    "import sqlite3\n",
    "\n",
    "# Connect to the SQLite database\n",
    "conn = sqlite3.connect('books.db')\n",
    "\n",
    "# Create a cursor object to interact with the database\n",
    "cursor = conn.cursor()\n",
    "\n",
    "# Execute a SQL query to select all columns and order by the 'year' column\n",
    "cursor.execute(\"SELECT * FROM books ORDER BY year ASC\")\n",
    "\n",
    "# Fetch all the results\n",
    "books = cursor.fetchall()\n",
    "\n",
    "# Print the column names\n",
    "column_names = [description[0] for description in cursor.description]\n",
    "print(\"\\t\".join(column_names))\n",
    "\n",
    "# Print the book data\n",
    "for book in books:\n",
    "    print(\"\\t\".join(map(str, book)))\n",
    "\n",
    "# Close the database connection\n",
    "conn.close()\n"
   ]
  },
  {
   "cell_type": "code",
   "execution_count": null,
   "metadata": {},
   "outputs": [],
   "source": [
    "#8) Use the sqlalchemy module to connect to the sqlite3 database books.db that you just made in\n",
    "# exercise 6."
   ]
  },
  {
   "cell_type": "code",
   "execution_count": null,
   "metadata": {},
   "outputs": [],
   "source": [
    "from sqlalchemy import create_engine\n",
    "\n",
    "# Create a SQLAlchemy engine to connect to the SQLite database\n",
    "engine = create_engine('sqlite:///books.db')\n",
    "\n",
    "# Test the connection by connecting to the database\n",
    "connection = engine.connect()\n",
    "\n",
    "connection.close()"
   ]
  },
  {
   "cell_type": "code",
   "execution_count": null,
   "metadata": {},
   "outputs": [],
   "source": [
    "#9) Install the Redis server and the Python redis library (pip install redis) on your computer. Create a\n",
    "# Redis hash called test with the fields count (1) and name (&#39;Fester Bestertester&#39;). Print all the fields for\n",
    "# test."
   ]
  },
  {
   "cell_type": "code",
   "execution_count": null,
   "metadata": {},
   "outputs": [],
   "source": [
    "import redis\n",
    "\n",
    "# Connect to the Redis server\n",
    "r = redis.Redis(host='localhost', port=6379, db=0)\n",
    "\n",
    "# Create the Redis hash 'test' with the specified fields\n",
    "r.hset('test', 'count', 1)\n",
    "r.hset('test', 'name', 'Fester Bestertester')\n",
    "\n",
    "# Retrieve all fields for 'test' and print them\n",
    "fields = r.hgetall('test')\n",
    "\n",
    "# Convert bytes to strings for printing\n",
    "fields = {key.decode('utf-8'): value.decode('utf-8') for key, value in fields.items()}\n",
    "\n",
    "print(fields)"
   ]
  },
  {
   "cell_type": "code",
   "execution_count": 10,
   "metadata": {},
   "outputs": [
    {
     "name": "stdout",
     "output_type": "stream",
     "text": [
      "Requirement already satisfied: redis in c:\\users\\rahul\\anaconda3\\lib\\site-packages (5.0.0)\n",
      "Requirement already satisfied: async-timeout>=4.0.2; python_full_version <= \"3.11.2\" in c:\\users\\rahul\\anaconda3\\lib\\site-packages (from redis) (4.0.3)\n"
     ]
    }
   ],
   "source": [
    "!pip install redis"
   ]
  },
  {
   "cell_type": "code",
   "execution_count": null,
   "metadata": {},
   "outputs": [],
   "source": [
    "#10) Increment the count field of test and print it."
   ]
  },
  {
   "cell_type": "code",
   "execution_count": null,
   "metadata": {},
   "outputs": [],
   "source": [
    "import redis\n",
    "\n",
    "# Connect to the Redis server\n",
    "r = redis.Redis(host='localhost', port=6379, db=0)\n",
    "\n",
    "# Increment the 'count' field of 'test' by 1\n",
    "r.hincrby('test', 'count', 1)\n",
    "\n",
    "# Get and print the updated 'count' field value\n",
    "count = r.hget('test', 'count').decode('utf-8')\n",
    "print(\"Updated count:\", count)\n"
   ]
  }
 ],
 "metadata": {
  "kernelspec": {
   "display_name": "Python 3",
   "language": "python",
   "name": "python3"
  },
  "language_info": {
   "codemirror_mode": {
    "name": "ipython",
    "version": 3
   },
   "file_extension": ".py",
   "mimetype": "text/x-python",
   "name": "python",
   "nbconvert_exporter": "python",
   "pygments_lexer": "ipython3",
   "version": "3.8.5"
  }
 },
 "nbformat": 4,
 "nbformat_minor": 4
}
