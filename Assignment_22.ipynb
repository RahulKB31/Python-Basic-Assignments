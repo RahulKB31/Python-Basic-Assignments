{
 "cells": [
  {
   "cell_type": "code",
   "execution_count": null,
   "metadata": {},
   "outputs": [],
   "source": [
    "#1)"
   ]
  },
  {
   "cell_type": "markdown",
   "metadata": {},
   "source": [
    "The result is iNeuron\n",
    "\n",
    "This is because the X variable is in the global scope, and functions in Python can access \n",
    "variables from the global scope. Therefore, the func function can access and print the value of X."
   ]
  },
  {
   "cell_type": "code",
   "execution_count": null,
   "metadata": {},
   "outputs": [],
   "source": [
    "#2) "
   ]
  },
  {
   "cell_type": "markdown",
   "metadata": {},
   "source": [
    "When you call func(), it assigns the value 'NI!' to the local variable X within the scope of the function. This assignment doesn't affect the global variable X.\n",
    "\n",
    "After the function call, when you print X outside the function, it accesses the global variable X, which still has the value 'iNeuron'. Therefore, it prints 'iNeuron'.\n",
    "\n",
    "In Python, variable scope is determined by where the variable is defined. Local variables within a function do not affect global variables with the same name unless you explicitly declare them as global within the function."
   ]
  },
  {
   "cell_type": "code",
   "execution_count": null,
   "metadata": {},
   "outputs": [],
   "source": [
    "#3)"
   ]
  },
  {
   "cell_type": "markdown",
   "metadata": {},
   "source": [
    "The result of running this code will be:\n",
    "\n",
    "NI\n",
    "iNeuron\n",
    "\n",
    "Here's the explanation:\n",
    "\n",
    "Inside the func function, when you print X, it accesses the local variable X with the value 'NI'. Therefore, it prints 'NI'.\n",
    "\n",
    "After the function call, when you print X outside the function, it accesses the global variable X, which still has the value 'iNeuron'. Therefore, it prints 'iNeuron'.\n",
    "\n",
    "In Python, variable scope is determined by where the variable is defined. Local variables within a function take precedence over global variables with the same name within the scope of that function."
   ]
  },
  {
   "cell_type": "code",
   "execution_count": null,
   "metadata": {},
   "outputs": [],
   "source": [
    "#4) "
   ]
  },
  {
   "cell_type": "markdown",
   "metadata": {},
   "source": [
    "The result of running this code will be:\n",
    "\n",
    "NI\n",
    "Here's the explanation:\n",
    "\n",
    "Inside the func function, when you declare X as a global variable and assign 'NI' to it, you are modifying the global variable X rather than creating a new local variable. This change affects the global X.\n",
    "\n",
    "After the function call, when you print X outside the function, it accesses the modified global variable X, which now has the value 'NI'. Therefore, it prints 'NI'.\n",
    "\n",
    "The use of the global keyword inside the function allows you to modify the global variable X from within the function's scope."
   ]
  },
  {
   "cell_type": "code",
   "execution_count": null,
   "metadata": {},
   "outputs": [],
   "source": [
    "#5)"
   ]
  },
  {
   "cell_type": "markdown",
   "metadata": {},
   "source": [
    "The result of running this code will be:\n",
    "\n",
    "NI\n",
    "Here's the explanation:\n",
    "\n",
    "Inside the func function, when you print X from the nested function, it accesses the nearest enclosing scope, which is the scope of the func function. Therefore, it prints the value of the local variable X within the func function, which is 'NI'.\n",
    "\n",
    "After the function call func(), when you print X outside the function, it accesses the global variable X, which still has the value 'iNeuron'. Therefore, it prints 'iNeuron'.\n",
    "\n",
    "In Python, when you reference a variable inside a function, it first looks for that variable in the local scope. If it doesn't find it there, it looks in enclosing scopes (e.g., the scope of the containing function) and then in the global scope."
   ]
  },
  {
   "cell_type": "code",
   "execution_count": null,
   "metadata": {},
   "outputs": [],
   "source": [
    "#6)"
   ]
  },
  {
   "cell_type": "markdown",
   "metadata": {},
   "source": [
    "The result of running this code will be:\n",
    "\n",
    "Copy code\n",
    "Spam\n",
    "Here's the explanation:\n",
    "\n",
    "The use of the nonlocal keyword inside the nested function allows you to modify the X variable in the nearest enclosing scope, which is the func function. Therefore, when you assign 'Spam' to X inside nested, it modifies the X variable in the func function's scope.\n",
    "\n",
    "After the nested function call, you print the modified X variable, which now has the value 'Spam'.\n",
    "\n",
    "This behavior is specific to Python 3 and allows you to modify variables in an enclosing scope using the nonlocal keyword. In Python 2, you would use the global keyword to modify variables in an outer (global) scope."
   ]
  },
  {
   "cell_type": "code",
   "execution_count": null,
   "metadata": {},
   "outputs": [],
   "source": []
  },
  {
   "cell_type": "code",
   "execution_count": null,
   "metadata": {},
   "outputs": [],
   "source": []
  },
  {
   "cell_type": "code",
   "execution_count": null,
   "metadata": {},
   "outputs": [],
   "source": []
  }
 ],
 "metadata": {
  "kernelspec": {
   "display_name": "Python 3",
   "language": "python",
   "name": "python3"
  },
  "language_info": {
   "codemirror_mode": {
    "name": "ipython",
    "version": 3
   },
   "file_extension": ".py",
   "mimetype": "text/x-python",
   "name": "python",
   "nbconvert_exporter": "python",
   "pygments_lexer": "ipython3",
   "version": "3.8.5"
  }
 },
 "nbformat": 4,
 "nbformat_minor": 4
}
