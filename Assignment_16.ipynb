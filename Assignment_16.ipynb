{
 "cells": [
  {
   "cell_type": "code",
   "execution_count": null,
   "metadata": {},
   "outputs": [],
   "source": [
    "#1) Create a list called years_list, starting with the year of your birth, and each year thereafter until\n",
    "# the year of your fifth birthday. For example, if you were born in 1980. the list would be years_list =\n",
    "# [1980, 1981, 1982, 1983, 1984, 1985]."
   ]
  },
  {
   "cell_type": "code",
   "execution_count": 1,
   "metadata": {},
   "outputs": [
    {
     "name": "stdout",
     "output_type": "stream",
     "text": [
      "[1997, 1998, 1999, 2000, 2001]\n"
     ]
    }
   ],
   "source": [
    "# Replace '1997' with your birth year\n",
    "birth_year = 1997\n",
    "\n",
    "# Calculate the year of your fifth birthday\n",
    "fifth_birthday_year = birth_year + 5\n",
    "\n",
    "# Create the years_list using a list comprehension\n",
    "years_list = [year for year in range(birth_year, fifth_birthday_year)]\n",
    "\n",
    "# Display the years_list\n",
    "print(years_list)"
   ]
  },
  {
   "cell_type": "code",
   "execution_count": null,
   "metadata": {},
   "outputs": [],
   "source": [
    "#2) In which year in years_list was your third birthday? Remember, you were 0 years of age for your first year."
   ]
  },
  {
   "cell_type": "code",
   "execution_count": 2,
   "metadata": {},
   "outputs": [
    {
     "name": "stdout",
     "output_type": "stream",
     "text": [
      "Year of your third birthday: 2000\n"
     ]
    }
   ],
   "source": [
    "# Replace '1997' with your birth year\n",
    "birth_year = 1997\n",
    "\n",
    "# Calculate the year of your third birthday\n",
    "third_birthday_year = birth_year + 3\n",
    "\n",
    "# Display the year of your third birthday\n",
    "print(\"Year of your third birthday:\", third_birthday_year)"
   ]
  },
  {
   "cell_type": "code",
   "execution_count": null,
   "metadata": {},
   "outputs": [],
   "source": [
    "#3) In the years list, which year were you the oldest?"
   ]
  },
  {
   "cell_type": "code",
   "execution_count": 5,
   "metadata": {},
   "outputs": [
    {
     "data": {
      "text/plain": [
       "2001"
      ]
     },
     "execution_count": 5,
     "metadata": {},
     "output_type": "execute_result"
    }
   ],
   "source": [
    "# Find the year when you were the oldest\n",
    "\n",
    "years_list[-1]"
   ]
  },
  {
   "cell_type": "code",
   "execution_count": null,
   "metadata": {},
   "outputs": [],
   "source": [
    "#4) Make a list called things with these three strings as elements: \"mozzarella\", \"cinderella\", \"salmonella\""
   ]
  },
  {
   "cell_type": "code",
   "execution_count": 11,
   "metadata": {},
   "outputs": [],
   "source": [
    "things = [\"mozzarella\", \"cinderella\", \"salmonella\"]"
   ]
  },
  {
   "cell_type": "code",
   "execution_count": null,
   "metadata": {},
   "outputs": [],
   "source": [
    "#5) Capitalize the element in things that refers to a person and then print the list. Did it change the element in the list?"
   ]
  },
  {
   "cell_type": "code",
   "execution_count": 12,
   "metadata": {},
   "outputs": [
    {
     "name": "stdout",
     "output_type": "stream",
     "text": [
      "['mozzarella', 'Cinderella', 'salmonella']\n"
     ]
    }
   ],
   "source": [
    "# Find the index of the element that refers to a person\n",
    "person_index = things.index(\"cinderella\")\n",
    "\n",
    "# Capitalize the element at that index\n",
    "things[person_index] = things[person_index].capitalize()\n",
    "\n",
    "# Print the updated list\n",
    "print(things)"
   ]
  },
  {
   "cell_type": "code",
   "execution_count": null,
   "metadata": {},
   "outputs": [],
   "source": [
    "#6) Make a surprise list with the elements \"Groucho\", \"Chico\", \"Harpo\""
   ]
  },
  {
   "cell_type": "code",
   "execution_count": 13,
   "metadata": {},
   "outputs": [],
   "source": [
    "surprise = [\"Groucho\", \"Chico\", \"Harpo\"]"
   ]
  },
  {
   "cell_type": "code",
   "execution_count": null,
   "metadata": {},
   "outputs": [],
   "source": [
    "#7) Lowercase the last element of the surprise list, reverse it, and then capitalize it."
   ]
  },
  {
   "cell_type": "code",
   "execution_count": 14,
   "metadata": {},
   "outputs": [
    {
     "name": "stdout",
     "output_type": "stream",
     "text": [
      "['Groucho', 'Chico', 'Oprah']\n"
     ]
    }
   ],
   "source": [
    "surprise = [\"Groucho\", \"Chico\", \"Harpo\"]\n",
    "\n",
    "# Lowercase the last element, reverse it, and capitalize it\n",
    "last_element = surprise[-1].lower()[::-1].capitalize()\n",
    "\n",
    "# Replace the last element with the modified value\n",
    "surprise[-1] = last_element\n",
    "\n",
    "# Print the updated surprise list\n",
    "print(surprise)\n"
   ]
  },
  {
   "cell_type": "code",
   "execution_count": null,
   "metadata": {},
   "outputs": [],
   "source": [
    "#8) Make an English-to-French dictionary called e2f and print it. Here are your starter words: dog is\n",
    "# chien, cat is chat, and walrus is morse."
   ]
  },
  {
   "cell_type": "code",
   "execution_count": 15,
   "metadata": {},
   "outputs": [
    {
     "name": "stdout",
     "output_type": "stream",
     "text": [
      "{'dog': 'chien', 'cat': 'chat', 'walrus': 'morse'}\n"
     ]
    }
   ],
   "source": [
    "e2f = {\n",
    "    'dog': 'chien',\n",
    "    'cat': 'chat',\n",
    "    'walrus': 'morse'\n",
    "}\n",
    "\n",
    "# Print the English-to-French dictionary\n",
    "print(e2f)"
   ]
  },
  {
   "cell_type": "code",
   "execution_count": null,
   "metadata": {},
   "outputs": [],
   "source": [
    "#9) Write the French word for walrus in your three-word dictionary e2f."
   ]
  },
  {
   "cell_type": "code",
   "execution_count": 16,
   "metadata": {},
   "outputs": [
    {
     "name": "stdout",
     "output_type": "stream",
     "text": [
      "French word for 'walrus': morse\n"
     ]
    }
   ],
   "source": [
    "# Access the French word for \"walrus\" using the key\n",
    "french_word_for_walrus = e2f['walrus']\n",
    "\n",
    "# Print the French word for \"walrus\"\n",
    "print(\"French word for 'walrus':\", french_word_for_walrus)"
   ]
  },
  {
   "cell_type": "code",
   "execution_count": null,
   "metadata": {},
   "outputs": [],
   "source": [
    "#10) Make a French-to-English dictionary called f2e from e2f. Use the items method."
   ]
  },
  {
   "cell_type": "code",
   "execution_count": 18,
   "metadata": {},
   "outputs": [
    {
     "name": "stdout",
     "output_type": "stream",
     "text": [
      "{'chien': 'dog', 'chat': 'cat', 'morse': 'walrus'}\n"
     ]
    }
   ],
   "source": [
    "# Create the French-to-English dictionary (f2e) using the items() method\n",
    "f2e = {french: english for english, french in e2f.items()}\n",
    "\n",
    "# Print the French-to-English dictionary (f2e)\n",
    "print(f2e)"
   ]
  },
  {
   "cell_type": "code",
   "execution_count": null,
   "metadata": {},
   "outputs": [],
   "source": [
    "#11) Print the English version of the French word chien using f2e."
   ]
  },
  {
   "cell_type": "code",
   "execution_count": 20,
   "metadata": {},
   "outputs": [
    {
     "name": "stdout",
     "output_type": "stream",
     "text": [
      "English word for 'chien': dog\n"
     ]
    }
   ],
   "source": [
    "# Access the English version of the French word \"chien\" using the key\n",
    "english_word_for_chien = f2e['chien']\n",
    "\n",
    "# Print the English version of \"chien\"\n",
    "print(\"English word for 'chien':\", english_word_for_chien)"
   ]
  },
  {
   "cell_type": "code",
   "execution_count": null,
   "metadata": {},
   "outputs": [],
   "source": [
    "#12) Make and print a set of English words from the keys in e2f."
   ]
  },
  {
   "cell_type": "code",
   "execution_count": 21,
   "metadata": {},
   "outputs": [
    {
     "name": "stdout",
     "output_type": "stream",
     "text": [
      "Set of English words: {'dog', 'cat', 'walrus'}\n"
     ]
    }
   ],
   "source": [
    "# Create a set of English words from the keys in e2f\n",
    "english_words_set = set(e2f.keys())\n",
    "\n",
    "# Print the set of English words\n",
    "print(\"Set of English words:\", english_words_set)\n"
   ]
  },
  {
   "cell_type": "code",
   "execution_count": null,
   "metadata": {},
   "outputs": [],
   "source": [
    "#13) Make a multilevel dictionary called life. Use these strings for the topmost keys: &#39;animals&#39;, &#39;plants&#39;,\n",
    "# and &#39;other&#39;. Make the &#39;animals&#39; key refer to another dictionary with the keys &#39;cats&#39;, &#39;octopi&#39;, and\n",
    "# &#39;emus&#39;. Make the &#39;cats&#39; key refer to a list of strings with the values &#39;Henri&#39;, &#39;Grumpy&#39;, and &#39;Lucy&#39;.\n",
    "# Make all the other keys refer to empty dictionaries."
   ]
  },
  {
   "cell_type": "code",
   "execution_count": 22,
   "metadata": {},
   "outputs": [
    {
     "name": "stdout",
     "output_type": "stream",
     "text": [
      "{'animals': {'cats': ['Henri', 'Grumpy', 'Lucy'], 'octopi': {}, 'emus': {}}, 'plants': {}, 'other': {}}\n"
     ]
    }
   ],
   "source": [
    "life = {\n",
    "    'animals': {\n",
    "        'cats': ['Henri', 'Grumpy', 'Lucy'],\n",
    "        'octopi': {},\n",
    "        'emus': {}\n",
    "    },\n",
    "    'plants': {},\n",
    "    'other': {}\n",
    "}\n",
    "\n",
    "# Print the multilevel dictionary 'life'\n",
    "print(life)"
   ]
  },
  {
   "cell_type": "code",
   "execution_count": null,
   "metadata": {},
   "outputs": [],
   "source": [
    "#14) Print the top-level keys of life."
   ]
  },
  {
   "cell_type": "code",
   "execution_count": 23,
   "metadata": {},
   "outputs": [
    {
     "name": "stdout",
     "output_type": "stream",
     "text": [
      "Top-level keys of 'life': ['animals', 'plants', 'other']\n"
     ]
    }
   ],
   "source": [
    "# Get and print the top-level keys of 'life'\n",
    "top_level_keys = list(life.keys())\n",
    "print(\"Top-level keys of 'life':\", top_level_keys)\n"
   ]
  },
  {
   "cell_type": "code",
   "execution_count": null,
   "metadata": {},
   "outputs": [],
   "source": [
    "#15) Print the keys for life[&#39;animals&#39;]."
   ]
  },
  {
   "cell_type": "code",
   "execution_count": 29,
   "metadata": {},
   "outputs": [
    {
     "name": "stdout",
     "output_type": "stream",
     "text": [
      "Keys for 'animals' dictionary: ['cats', 'octopi', 'emus']\n"
     ]
    }
   ],
   "source": [
    "# Get and print the keys for 'animals' dictionary\n",
    "animals_keys = list(life['animals'].keys())\n",
    "print(\"Keys for 'animals' dictionary:\", animals_keys)"
   ]
  },
  {
   "cell_type": "code",
   "execution_count": null,
   "metadata": {},
   "outputs": [],
   "source": [
    "#16) Print the values for life['animals']['cats']"
   ]
  },
  {
   "cell_type": "code",
   "execution_count": 30,
   "metadata": {},
   "outputs": [
    {
     "name": "stdout",
     "output_type": "stream",
     "text": [
      "Values for 'life['animals']['cats']': ['Henri', 'Grumpy', 'Lucy']\n"
     ]
    }
   ],
   "source": [
    "# Get and print the values for 'cats' key in 'animals' dictionary\n",
    "cat_names = life['animals']['cats']\n",
    "print(\"Values for 'life['animals']['cats']':\", cat_names)\n"
   ]
  },
  {
   "cell_type": "code",
   "execution_count": null,
   "metadata": {},
   "outputs": [],
   "source": []
  }
 ],
 "metadata": {
  "kernelspec": {
   "display_name": "Python 3",
   "language": "python",
   "name": "python3"
  },
  "language_info": {
   "codemirror_mode": {
    "name": "ipython",
    "version": 3
   },
   "file_extension": ".py",
   "mimetype": "text/x-python",
   "name": "python",
   "nbconvert_exporter": "python",
   "pygments_lexer": "ipython3",
   "version": "3.8.5"
  }
 },
 "nbformat": 4,
 "nbformat_minor": 4
}
