{
 "cells": [
  {
   "cell_type": "code",
   "execution_count": null,
   "metadata": {},
   "outputs": [],
   "source": [
    "#1) In what modes should the PdfFileReader() and PdfFileWriter() File objects will be opened?"
   ]
  },
  {
   "cell_type": "markdown",
   "metadata": {},
   "source": [
    "When working with the PyPDF2 library in Python to read or write PDF files using the `PdfFileReader()` and `PdfFileWriter()` classes, you do not need to explicitly open the PDF file in different modes as you would with regular file I/O operations. Instead, you provide the PDF file's path to these classes, and they handle the file access internally.\n",
    "\n",
    "Here's how you typically use `PdfFileReader()` and `PdfFileWriter()`:\n",
    "\n",
    "1. **PdfFileReader() - Reading a PDF**:\n",
    "\n",
    "   ```python\n",
    "   from PyPDF2 import PdfFileReader\n",
    "\n",
    "   # Open the PDF file for reading using PdfFileReader\n",
    "   pdf_reader = PdfFileReader(open('example.pdf', 'rb'))\n",
    "\n",
    "   # Now you can use pdf_reader to access the PDF's contents\n",
    "   ```\n",
    "\n",
    "   - In this example, `'example.pdf'` is the path to the PDF file, and `'rb'` stands for \"read binary.\" It indicates that the file should be opened in binary read mode. This is necessary because PDF files are binary files.\n",
    "\n",
    "2. **PdfFileWriter() - Writing to a PDF**:\n",
    "\n",
    "   ```python\n",
    "   from PyPDF2 import PdfFileWriter\n",
    "\n",
    "   # Create a PdfFileWriter instance to write to a PDF\n",
    "   pdf_writer = PdfFileWriter()\n",
    "\n",
    "   # You can add pages, content, etc., to pdf_writer\n",
    "   ```\n",
    "\n",
    "   - You don't need to explicitly open the output PDF file for writing. Instead, `PdfFileWriter()` creates an in-memory representation of a PDF file that you can add content to. You can later write this content to a new file using `pdf_writer.write()`.\n",
    "\n",
    "In summary, when using PyPDF2's `PdfFileReader()` and `PdfFileWriter()`, you don't explicitly open the PDF file with modes as you would with `open()` for regular file I/O. Instead, you provide the PDF file's path when creating these objects, and PyPDF2 handles the necessary file access internally."
   ]
  },
  {
   "cell_type": "code",
   "execution_count": null,
   "metadata": {},
   "outputs": [],
   "source": [
    "#2) From a PdfFileReader object, how do you get a Page object for page 5?"
   ]
  },
  {
   "cell_type": "markdown",
   "metadata": {},
   "source": [
    "To get a `Page` object for page 5 from a `PdfFileReader` object in the PyPDF2 library, you can use the `getPage()` method. Here's how you can do it:\n",
    "\n",
    "```python\n",
    "from PyPDF2 import PdfFileReader\n",
    "\n",
    "# Open the PDF file for reading\n",
    "pdf_reader = PdfFileReader(open('example.pdf', 'rb'))\n",
    "\n",
    "# Get a Page object for page 5 (page numbering is 0-based)\n",
    "page_number = 4  # Page 5 corresponds to index 4\n",
    "page = pdf_reader.getPage(page_number)\n",
    "\n",
    "# Now, you can work with the 'page' object\n",
    "```\n",
    "\n",
    "In this code:\n",
    "\n",
    "- First, you create a `PdfFileReader` object (`pdf_reader`) by opening the PDF file in binary read mode ('rb').\n",
    "- Then, you specify the page number you want (page 5 corresponds to index 4 because page numbering is 0-based). In this example, we want page 5, so we set `page_number` to 4.\n",
    "- Finally, you use the `getPage()` method to retrieve the `Page` object for the specified page number (page 5 in this case), and it's stored in the `page` variable.\n",
    "\n",
    "Now, you can work with the `page` object to extract text, manipulate content, or perform other operations on that specific page of the PDF document."
   ]
  },
  {
   "cell_type": "code",
   "execution_count": null,
   "metadata": {},
   "outputs": [],
   "source": [
    "#3) What PdfFileReader variable stores the number of pages in the PDF document?"
   ]
  },
  {
   "cell_type": "markdown",
   "metadata": {},
   "source": [
    "In the PyPDF2 library, the number of pages in a PDF document can be obtained using the `numPages` attribute of a `PdfFileReader` object. Here's how you can access it:\n",
    "\n",
    "```python\n",
    "from PyPDF2 import PdfFileReader\n",
    "\n",
    "# Open the PDF file for reading\n",
    "pdf_reader = PdfFileReader(open('example.pdf', 'rb'))\n",
    "\n",
    "# Get the number of pages in the PDF document\n",
    "num_pages = pdf_reader.numPages\n",
    "\n",
    "# Now, 'num_pages' stores the total number of pages in the PDF document\n",
    "```\n",
    "\n",
    "In this code, `pdf_reader.numPages` will give you the total number of pages in the PDF document, and this value will be stored in the `num_pages` variable. You can then use `num_pages` in your code to work with the total page count of the PDF document."
   ]
  },
  {
   "cell_type": "code",
   "execution_count": null,
   "metadata": {},
   "outputs": [],
   "source": [
    "#4) If a PdfFileReader object’s PDF is encrypted with the password swordfish, what must you do\n",
    "#   before you can obtain Page objects from it?"
   ]
  },
  {
   "cell_type": "markdown",
   "metadata": {},
   "source": [
    "If a `PdfFileReader` object's PDF is encrypted with the password \"swordfish,\" you must provide the correct password to decrypt the PDF before you can obtain `Page` objects from it. You can use the `decrypt()` method of the `PdfFileReader` object to provide the password and decrypt the PDF. \n",
    "\n",
    "```python\n",
    "from PyPDF2 import PdfFileReader\n",
    "\n",
    "# Open the PDF file for reading\n",
    "pdf_file = open('encrypted.pdf', 'rb')\n",
    "\n",
    "# Create a PdfFileReader object\n",
    "pdf_reader = PdfFileReader(pdf_file)\n",
    "\n",
    "# Check if the PDF is encrypted\n",
    "if pdf_reader.isEncrypted:\n",
    "    # Provide the password to decrypt the PDF\n",
    "    password = \"swordfish\"\n",
    "    pdf_reader.decrypt(password)\n",
    "\n",
    "    # Now, you can obtain Page objects from the decrypted PDF\n",
    "    page = pdf_reader.getPage(0)  # Get the first page as an example\n",
    "    # Continue working with the 'page' object or perform other operations\n",
    "else:\n",
    "    # Handle the case where the PDF is not encrypted\n",
    "    print(\"The PDF is not encrypted.\")\n",
    "\n",
    "# Don't forget to close the PDF file when you're done\n",
    "pdf_file.close()\n",
    "```"
   ]
  },
  {
   "cell_type": "code",
   "execution_count": null,
   "metadata": {},
   "outputs": [],
   "source": [
    "#5) What methods do you use to rotate a page?"
   ]
  },
  {
   "cell_type": "markdown",
   "metadata": {},
   "source": [
    "To rotate a page in a PDF using the PyPDF2 library in Python, you can use the `rotateClockwise()` and `rotateCounterClockwise()` methods of the `PageObject` class. These methods allow you to rotate a page by 90 degrees clockwise or counterclockwise, respectively. Here's how to use them:\n",
    "\n",
    "1. **Rotate Clockwise (90 degrees)**:\n",
    "\n",
    "   ```python\n",
    "   from PyPDF2 import PdfFileReader, PdfFileWriter\n",
    "\n",
    "   # Open the PDF file for reading\n",
    "   pdf_reader = PdfFileReader(open('input.pdf', 'rb'))\n",
    "\n",
    "   # Create a PdfFileWriter object to write the rotated page\n",
    "   pdf_writer = PdfFileWriter()\n",
    "\n",
    "   # Choose the page to rotate (e.g., page 1)\n",
    "   page_number_to_rotate = 0  # Page numbering is 0-based\n",
    "\n",
    "   # Get the selected page\n",
    "   page = pdf_reader.getPage(page_number_to_rotate)\n",
    "\n",
    "   # Rotate the page 90 degrees clockwise\n",
    "   page.rotateClockwise(90)\n",
    "\n",
    "   # Add the rotated page to the PdfFileWriter object\n",
    "   pdf_writer.addPage(page)\n",
    "\n",
    "   # Write the rotated page to a new PDF file\n",
    "   with open('output.pdf', 'wb') as output_pdf:\n",
    "       pdf_writer.write(output_pdf)\n",
    "   ```\n",
    "\n",
    "2. **Rotate Counterclockwise (90 degrees)**:\n",
    "\n",
    "   ```python\n",
    "   from PyPDF2 import PdfFileReader, PdfFileWriter\n",
    "\n",
    "   # Open the PDF file for reading\n",
    "   pdf_reader = PdfFileReader(open('input.pdf', 'rb'))\n",
    "\n",
    "   # Create a PdfFileWriter object to write the rotated page\n",
    "   pdf_writer = PdfFileWriter()\n",
    "\n",
    "   # Choose the page to rotate (e.g., page 1)\n",
    "   page_number_to_rotate = 0  # Page numbering is 0-based\n",
    "\n",
    "   # Get the selected page\n",
    "   page = pdf_reader.getPage(page_number_to_rotate)\n",
    "\n",
    "   # Rotate the page 90 degrees counterclockwise\n",
    "   page.rotateCounterClockwise(90)\n",
    "\n",
    "   # Add the rotated page to the PdfFileWriter object\n",
    "   pdf_writer.addPage(page)\n",
    "\n",
    "   # Write the rotated page to a new PDF file\n",
    "   with open('output.pdf', 'wb') as output_pdf:\n",
    "       pdf_writer.write(output_pdf)\n",
    "   ```\n",
    "\n",
    "In both examples, you first open the PDF file, create a `PdfFileWriter` object to write the rotated page, select the page you want to rotate using `getPage()`, and then use either `rotateClockwise()` or `rotateCounterClockwise()` to perform the rotation. Finally, you add the rotated page to the `PdfFileWriter` and save it to a new PDF file."
   ]
  },
  {
   "cell_type": "code",
   "execution_count": null,
   "metadata": {},
   "outputs": [],
   "source": [
    "#6) What is the difference between a Run object and a Paragraph object?"
   ]
  },
  {
   "cell_type": "markdown",
   "metadata": {},
   "source": [
    "In the context of word processing and document manipulation using libraries like Python's `python-docx` (for working with Microsoft Word documents), \"Run\" and \"Paragraph\" are two important elements used to structure and format text within a document. Here are the key differences between a \"Run\" object and a \"Paragraph\" object:\n",
    "\n",
    "1. **Paragraph Object**:\n",
    "\n",
    "   - **Role**: A Paragraph object represents a single paragraph of text within a document. It is used to group and format text that logically belongs together within a single paragraph.\n",
    "   - **Content**: A Paragraph can contain multiple Runs. It typically includes text along with various formatting properties (e.g., font size, style, alignment).\n",
    "   - **Formatting**: Paragraphs can have their own paragraph-level formatting, such as alignment (left, right, center, justified), indentation, and spacing (before and after the paragraph).\n",
    "   - **Usage**: Paragraphs are commonly used for structuring and organizing text into coherent sections, such as headings, paragraphs, lists, and more.\n",
    "\n",
    "2. **Run Object**:\n",
    "\n",
    "   - **Role**: A Run object represents a contiguous run of text with consistent formatting within a Paragraph. It is used to apply formatting to a specific part of the text within a paragraph.\n",
    "   - **Content**: A Run contains a portion of the text within a Paragraph and applies specific character-level formatting to that portion (e.g., bold, italic, underline).\n",
    "   - **Formatting**: Runs can have their own character-level formatting, such as font style, size, color, and emphasis (bold, italic, underline).\n",
    "   - **Usage**: Runs are used when you need to apply different formatting styles to different parts of a paragraph. For example, you can have a single paragraph that contains both regular and bold text, and you achieve this by using different Runs within the same Paragraph.\n",
    "\n",
    "In summary, a \"Paragraph\" object represents a container for logically related text content, while a \"Run\" object represents a contiguous portion of text within a Paragraph with consistent character-level formatting. Combining Paragraphs and Runs allows you to structure and format the text content of a document effectively, providing both paragraph-level and character-level control over formatting."
   ]
  },
  {
   "cell_type": "code",
   "execution_count": null,
   "metadata": {},
   "outputs": [],
   "source": [
    "#7) How do you obtain a list of Paragraph objects for a Document object that’s stored in a variable named doc?"
   ]
  },
  {
   "cell_type": "raw",
   "metadata": {},
   "source": [
    "from docx import Document\n",
    "\n",
    "#Load the Word document from a file (replace 'document.docx' with the actual file path)\n",
    "doc = Document('document.docx')\n",
    "\n",
    "#Get a list of Paragraph objects in the document\n",
    "paragraphs = doc.paragraphs\n",
    "\n",
    "#Now, 'paragraphs' contains a list of Paragraph objects\n"
   ]
  },
  {
   "cell_type": "code",
   "execution_count": null,
   "metadata": {},
   "outputs": [],
   "source": [
    "#8) What type of object has bold, underline, italic, strike, and outline variables?"
   ]
  },
  {
   "cell_type": "markdown",
   "metadata": {},
   "source": [
    "In the `python-docx` library, which is used for working with Microsoft Word documents, the object that has `bold`, `underline`, `italic`, `strike`, and `outline` variables is a `Run` object. \n",
    "\n",
    "A `Run` object represents a contiguous run of text within a paragraph with consistent character-level formatting. You can access and manipulate various character-level formatting properties using the following variables:\n",
    "\n",
    "- `bold`: Represents whether the text in the `Run` is formatted as bold (`True` or `False`).\n",
    "\n",
    "- `underline`: Represents the underline style of the text in the `Run`. It can have values like `None` (no underline), `True` (single underline), or other underline styles.\n",
    "\n",
    "- `italic`: Represents whether the text in the `Run` is formatted as italic (`True` or `False`).\n",
    "\n",
    "- `strike`: Represents whether the text in the `Run` is formatted with a strikethrough line (`True` or `False`).\n",
    "\n",
    "- `outline`: Represents whether the text in the `Run` is formatted with an outline effect (`True` or `False`).\n",
    "\n",
    "You can access and modify these formatting properties for a specific `Run` within a `Paragraph` to apply formatting styles to specific parts of the text within the paragraph. Here's an example of how to work with these properties:\n",
    "\n",
    "```python\n",
    "from docx import Document\n",
    "\n",
    "# Load a Word document\n",
    "doc = Document('your_document.docx')\n",
    "\n",
    "# Access the first paragraph and the first run in it\n",
    "paragraph = doc.paragraphs[0]\n",
    "run = paragraph.runs[0]\n",
    "\n",
    "# Modify formatting properties\n",
    "run.bold = True\n",
    "run.underline = True\n",
    "run.italic = True\n",
    "run.strike = True\n",
    "run.outline = True\n",
    "\n",
    "# Save the modified document\n",
    "doc.save('modified_document.docx')\n",
    "```"
   ]
  },
  {
   "cell_type": "code",
   "execution_count": null,
   "metadata": {},
   "outputs": [],
   "source": [
    "#9) What is the difference between False, True, and None for the bold variable?"
   ]
  },
  {
   "cell_type": "markdown",
   "metadata": {},
   "source": [
    "In the context of character-level formatting in the `python-docx` library, the `bold` variable can take three different values: `False`, `True`, and `None`, and they represent the following:\n",
    "\n",
    "1. **`False`**: When `bold` is set to `False`, it means that the text in the `Run` is not formatted as bold. In other words, the text appears with regular (non-bold) formatting.\n",
    "\n",
    "2. **`True`**: When `bold` is set to `True`, it means that the text in the `Run` is formatted as bold. The text appears thicker and darker, indicating emphasis.\n",
    "\n",
    "3. **`None`**: When `bold` is set to `None`, it means that the `bold` formatting property for the text is inherited from the surrounding context. In most cases, this means that the text will appear as it's defined in the paragraph style or document style. If no specific bold formatting is applied at the paragraph or document level, the text will be regular (non-bold).\n",
    "\n",
    "Here's a quick summary:\n",
    "\n",
    "- `False`: Text is not bold (regular).\n",
    "- `True`: Text is bold.\n",
    "- `None`: Text inherits the bold formatting from the surrounding context (paragraph or document style).\n",
    "\n",
    "You can use these values to control the bold formatting of specific text within a `Run` object or to override inherited formatting."
   ]
  },
  {
   "cell_type": "code",
   "execution_count": null,
   "metadata": {},
   "outputs": [],
   "source": [
    "#10) How do you create a Document object for a new Word document?"
   ]
  },
  {
   "cell_type": "markdown",
   "metadata": {},
   "source": [
    "To create a `Document` object for a new Word document using the `python-docx` library, you can follow these steps:\n",
    "\n",
    "1. Import the `Document` class from the `docx` module.\n",
    "2. Create an instance of the `Document` class.\n",
    "\n",
    "Here's a code example:\n",
    "\n",
    "```python\n",
    "from docx import Document\n",
    "\n",
    "# Create a new Document object for a new Word document\n",
    "doc = Document()\n",
    "```\n",
    "\n",
    "In this code, we first import the `Document` class from the `docx` module. Then, we create an instance of the `Document` class using `Document()`, which initializes a new, empty Word document.\n",
    "\n",
    "Once you have the `Document` object (`doc` in this case), you can add content, paragraphs, runs, and formatting to it as needed. Finally, you can save the document to a file using the `save()` method."
   ]
  },
  {
   "cell_type": "code",
   "execution_count": null,
   "metadata": {},
   "outputs": [],
   "source": [
    "#11) How do you add a paragraph with the text &#39;Hello, there!&#39; to a Document object stored in a variable named doc?"
   ]
  },
  {
   "cell_type": "markdown",
   "metadata": {},
   "source": [
    "```python\n",
    "from docx import Document\n",
    "\n",
    "# Create a new Document object\n",
    "doc = Document()\n",
    "\n",
    "# Add a paragraph with the text 'Hello, there!'\n",
    "paragraph_text = 'Hello, there!'\n",
    "doc.add_paragraph(paragraph_text)\n",
    "```"
   ]
  },
  {
   "cell_type": "code",
   "execution_count": null,
   "metadata": {},
   "outputs": [],
   "source": [
    "#12) What integers represent the levels of headings available in Word documents?"
   ]
  },
  {
   "cell_type": "markdown",
   "metadata": {},
   "source": [
    "In Microsoft Word documents, heading levels are typically represented by integer values ranging from 1 to 9. These integers correspond to different heading styles and levels of hierarchy in a document's structure. Here's what each level typically represents:\n",
    "\n",
    "1. **Heading 1 (H1)**: Represented by the integer 1. It is the highest level and is often used for main section or chapter headings.\n",
    "\n",
    "2. **Heading 2 (H2)**: Represented by the integer 2. It is used for subsections or subchapters within Heading 1.\n",
    "\n",
    "3. **Heading 3 (H3)**: Represented by the integer 3. Used for sub-subsections within Heading 2.\n",
    "\n",
    "4. **Heading 4 (H4)**: Represented by the integer 4. Used for further subdivisions within Heading 3.\n",
    "\n",
    "5. **Heading 5 (H5)**: Represented by the integer 5. Used for even more detailed subdivisions within Heading 4.\n",
    "\n",
    "6. **Heading 6 (H6)**: Represented by the integer 6. Used for finer-grained divisions within Heading 5.\n",
    "\n",
    "7. **Heading 7 (H7)**: Represented by the integer 7. Used for very specific subdivisions within Heading 6.\n",
    "\n",
    "8. **Heading 8 (H8)**: Represented by the integer 8. Used for even more specific divisions within Heading 7.\n",
    "\n",
    "9. **Heading 9 (H9)**: Represented by the integer 9. It is the lowest level and is used for the most detailed subdivisions within Heading 8.\n",
    "\n",
    "These heading levels provide a hierarchical structure to a document, making it easier to organize and navigate through sections and subsections. You can apply these heading styles in Microsoft Word to create an outline of your document and generate a table of contents, among other features. The specific styles and formatting associated with each heading level may vary depending on the document's template and styling preferences."
   ]
  },
  {
   "cell_type": "code",
   "execution_count": null,
   "metadata": {},
   "outputs": [],
   "source": []
  }
 ],
 "metadata": {
  "kernelspec": {
   "display_name": "Python 3",
   "language": "python",
   "name": "python3"
  },
  "language_info": {
   "codemirror_mode": {
    "name": "ipython",
    "version": 3
   },
   "file_extension": ".py",
   "mimetype": "text/x-python",
   "name": "python",
   "nbconvert_exporter": "python",
   "pygments_lexer": "ipython3",
   "version": "3.8.5"
  }
 },
 "nbformat": 4,
 "nbformat_minor": 4
}
