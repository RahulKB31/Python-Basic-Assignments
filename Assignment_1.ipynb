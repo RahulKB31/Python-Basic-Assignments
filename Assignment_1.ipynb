{
 "cells": [
  {
   "cell_type": "markdown",
   "metadata": {},
   "source": [
    "# Assignment_1 Python"
   ]
  },
  {
   "cell_type": "markdown",
   "metadata": {},
   "source": [
    "## 1) In the below elements which of them are values or expression.\n",
    "\n",
    "    (*) is an arithmetic operator multiplication [Expression]\n",
    "\n",
    "    ('hello') is a String [Value]\n",
    "    \n",
    "    (-89.7) is a floating point number [Value]\n",
    "    \n",
    "    (-) is a mathematical operator subtraction [Expression]\n",
    "    \n",
    "    (/) is a mathematic operator division\n",
    "    \n",
    "    (+) is a mathematical operator addition [Expression]\n",
    "    \n",
    "    (6) is a integer [Value]\n"
   ]
  },
  {
   "cell_type": "markdown",
   "metadata": {},
   "source": [
    "## 2) What is the difference between string and variable?\n",
    "\n",
    "--> A string is a literal text string, i.e. 'Hello', which is assigned using quotes.\n",
    "\n",
    "--> A variable is something that stores data (per se) - it can store a string, int, float, class, etc. You can think of \n",
    "\n",
    "    variable as an identifier (or some kind of means) to store a value in a memory location and to manipulate it if needed."
   ]
  },
  {
   "cell_type": "markdown",
   "metadata": {},
   "source": [
    "## 3) Describe three different data types.\n",
    "\n",
    "\n",
    "Integers – This value is represented by int class. It contains positive or negative whole numbers (without fraction or decimal). In Python there is no limit to how long an integer value can be.\n",
    "\n",
    "Float – This value is represented by float class. It is a real number with floating point representation. It is specified by a decimal point. Optionally, the character e or E followed by a positive or negative integer may be appended to specify scientific notation. \n",
    " \n",
    "Complex Numbers – Complex number is represented by complex class. It is specified as (real part) + (imaginary part)j. For example – 2+3j "
   ]
  },
  {
   "cell_type": "markdown",
   "metadata": {},
   "source": [
    "## 4) What is an expression made up of? What do all expression do? \n",
    "\n",
    "An expression is any valid combination of literals (strings, numbers, lists, sets, tuples), Operators and Variables.   which results in a value - regardless of whether the resulting value is an object, or a number, or even a None. So examples of expressions are :\n",
    "\n",
    "a+b - this is a arithmatic expression.\n",
    "\n",
    "23.6 - this is a floating point literal.\n",
    "\n",
    "{1,2,3,4} - a set literal.\n",
    "\n",
    "my_func(1,2,3) - a function call (even if the function returns None).\n",
    "\n",
    "2 + the_number * math.factorial(7) - a combination of literals, operators, identifiers and function calls.\n",
    "\n",
    "Expressions aren’t things like for loops, while loops, with statements, try/except, if/else - they are representations of value. They are different from statement in the fact that statements do something while expressions are representation of value. For example any string is also an expressions since it represents the value of the string as well."
   ]
  },
  {
   "cell_type": "markdown",
   "metadata": {},
   "source": [
    "## 5) This assignment statements, like spam = 10. What is the difference between an expression and a Statement?\n",
    "\n",
    "An expression evaluates to a value.Expression is a combination of variables, operations and values that yields a result value.\n",
    "\n",
    "A statement does something. Statements represent an action or command e.g print statements, assignment statements.\n",
    "\n",
    "\n",
    "\n",
    "**Expression**\n",
    "\n",
    "Expressions always returns a value.\n",
    "\n",
    "Functions are also expressions. Even a non returning function will still return.\n",
    "\n",
    "Functions are also expressions. Even a non returning function will still return value, so it is an expression.\n",
    "\n",
    "Can print the result value.\n",
    "Examples Of Python Expressions: “Hello” + “World”, 4 + 5 etc.\n",
    "\n",
    "\n",
    "\n",
    "**Statement**\n",
    "\n",
    "A statement never returns a value.\n",
    "\n",
    "Cannot print any result.\n",
    "\n",
    "Examples Of Python Statements: Assignment statements, conditional branching, loops, classes, import, def, try, except, pass, del etc"
   ]
  },
  {
   "cell_type": "markdown",
   "metadata": {},
   "source": [
    "## 6) After running the following code, what does the variable bacon contain?"
   ]
  },
  {
   "cell_type": "code",
   "execution_count": 7,
   "metadata": {},
   "outputs": [
    {
     "data": {
      "text/plain": [
       "23"
      ]
     },
     "execution_count": 7,
     "metadata": {},
     "output_type": "execute_result"
    }
   ],
   "source": [
    "bacon = 22\n",
    "bacon + 1"
   ]
  },
  {
   "cell_type": "markdown",
   "metadata": {},
   "source": [
    "The Variable bacon contains integer 22."
   ]
  },
  {
   "cell_type": "markdown",
   "metadata": {},
   "source": [
    "## 7) What should the values of the following two terms be? "
   ]
  },
  {
   "cell_type": "code",
   "execution_count": 11,
   "metadata": {},
   "outputs": [
    {
     "data": {
      "text/plain": [
       "'spamspamspam'"
      ]
     },
     "execution_count": 11,
     "metadata": {},
     "output_type": "execute_result"
    }
   ],
   "source": [
    "'spam' + 'spamspam'"
   ]
  },
  {
   "cell_type": "code",
   "execution_count": 9,
   "metadata": {},
   "outputs": [
    {
     "data": {
      "text/plain": [
       "'spamspamspam'"
      ]
     },
     "execution_count": 9,
     "metadata": {},
     "output_type": "execute_result"
    }
   ],
   "source": [
    "'spam'*3"
   ]
  },
  {
   "cell_type": "markdown",
   "metadata": {},
   "source": [
    "The values of two strings with different operators + & * is always a string."
   ]
  },
  {
   "cell_type": "markdown",
   "metadata": {},
   "source": [
    "## 8) Why is eggs a valid variable name 100 is invalid?"
   ]
  },
  {
   "cell_type": "markdown",
   "metadata": {},
   "source": [
    "A variable name **eggs** starts with a letter but not with a number.\n",
    "\n",
    "A variable name **eggs** can only contain alpha-numeric characters and underscores (A-z, 0-9, and _ ).\n",
    "\n",
    "Since these are the Rules for creating variables in Python, therefore variable name 100 is invalid."
   ]
  },
  {
   "cell_type": "markdown",
   "metadata": {},
   "source": [
    "## 9) What three functions can be used to get the integer, floating-point number, or string version of a value?"
   ]
  },
  {
   "cell_type": "code",
   "execution_count": 14,
   "metadata": {},
   "outputs": [
    {
     "data": {
      "text/plain": [
       "100.0"
      ]
     },
     "execution_count": 14,
     "metadata": {},
     "output_type": "execute_result"
    }
   ],
   "source": [
    "float(100)"
   ]
  },
  {
   "cell_type": "code",
   "execution_count": 15,
   "metadata": {},
   "outputs": [
    {
     "data": {
      "text/plain": [
       "100"
      ]
     },
     "execution_count": 15,
     "metadata": {},
     "output_type": "execute_result"
    }
   ],
   "source": [
    "int(100)"
   ]
  },
  {
   "cell_type": "code",
   "execution_count": 18,
   "metadata": {},
   "outputs": [
    {
     "data": {
      "text/plain": [
       "'100'"
      ]
     },
     "execution_count": 18,
     "metadata": {},
     "output_type": "execute_result"
    }
   ],
   "source": [
    "str(100)"
   ]
  },
  {
   "cell_type": "markdown",
   "metadata": {},
   "source": [
    "## 10) Why does this expression cause an error? How can you fix it?\n",
    "\n",
    "'I have eaten' + 99 + 'burritos.'"
   ]
  },
  {
   "cell_type": "code",
   "execution_count": 23,
   "metadata": {},
   "outputs": [
    {
     "data": {
      "text/plain": [
       "'I have eaten 99 burritos.'"
      ]
     },
     "execution_count": 23,
     "metadata": {},
     "output_type": "execute_result"
    }
   ],
   "source": [
    "'I have eaten' + ' 99 ' + 'burritos.' "
   ]
  },
  {
   "cell_type": "markdown",
   "metadata": {},
   "source": [
    "This expression causes Type Error: can only concatenate str (not \"int\") to str.\n",
    "\n",
    "This can be fixed by  strings to the integer."
   ]
  }
 ],
 "metadata": {
  "kernelspec": {
   "display_name": "Python 3",
   "language": "python",
   "name": "python3"
  },
  "language_info": {
   "codemirror_mode": {
    "name": "ipython",
    "version": 3
   },
   "file_extension": ".py",
   "mimetype": "text/x-python",
   "name": "python",
   "nbconvert_exporter": "python",
   "pygments_lexer": "ipython3",
   "version": "3.8.5"
  }
 },
 "nbformat": 4,
 "nbformat_minor": 4
}
