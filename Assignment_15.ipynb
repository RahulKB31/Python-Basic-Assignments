{
 "cells": [
  {
   "cell_type": "code",
   "execution_count": null,
   "metadata": {},
   "outputs": [],
   "source": [
    "#1) 1.How many seconds are in an hour? Use the interactive interpreter as a calculator and multiply the\n",
    "# number of seconds in a minute (60) by the number of minutes in an hour (also 60).\n",
    "# sol. 60"
   ]
  },
  {
   "cell_type": "markdown",
   "metadata": {},
   "source": [
    "60 seconds/minute * 60 minutes/hour = 3600 seconds/hour"
   ]
  },
  {
   "cell_type": "code",
   "execution_count": null,
   "metadata": {},
   "outputs": [],
   "source": [
    "#2) Assign the result from the previous task (seconds in an hour) to a variable called seconds_per_hour."
   ]
  },
  {
   "cell_type": "markdown",
   "metadata": {},
   "source": [
    "seconds_per_hour = 60 * 60  # 60 seconds/minute * 60 minutes/hour"
   ]
  },
  {
   "cell_type": "code",
   "execution_count": null,
   "metadata": {},
   "outputs": [],
   "source": [
    "#3) How many seconds do you think there are in a day? Make use of the variables seconds per hour and minutes per hour."
   ]
  },
  {
   "cell_type": "markdown",
   "metadata": {},
   "source": [
    "seconds_per_hour = 60 * 60  # 60 seconds/minute * 60 minutes/hour\n",
    "minutes_per_hour = 60\n",
    "\n",
    "seconds_per_day = seconds_per_hour * 24  # 24 hours/day"
   ]
  },
  {
   "cell_type": "code",
   "execution_count": null,
   "metadata": {},
   "outputs": [],
   "source": [
    "#4) Calculate seconds per day again, but this time save the result in a variable called seconds_per_day"
   ]
  },
  {
   "cell_type": "code",
   "execution_count": 2,
   "metadata": {},
   "outputs": [
    {
     "name": "stdout",
     "output_type": "stream",
     "text": [
      "Seconds per day: 86400\n"
     ]
    }
   ],
   "source": [
    "# Variables for seconds and minutes per hour\n",
    "seconds_per_hour = 60 * 60\n",
    "minutes_per_hour = 60\n",
    "\n",
    "# Calculate seconds per day (24 hours)\n",
    "seconds_per_day = seconds_per_hour * 24\n",
    "\n",
    "# Display the result\n",
    "print(\"Seconds per day:\", seconds_per_day)"
   ]
  },
  {
   "cell_type": "code",
   "execution_count": null,
   "metadata": {},
   "outputs": [],
   "source": [
    "#5) Divide seconds_per_day by seconds_per_hour. Use floating-point (/) division."
   ]
  },
  {
   "cell_type": "code",
   "execution_count": 3,
   "metadata": {},
   "outputs": [
    {
     "name": "stdout",
     "output_type": "stream",
     "text": [
      "Result of division: 24.0\n"
     ]
    }
   ],
   "source": [
    "# Variables for seconds per day and seconds per hour\n",
    "seconds_per_hour = 60 * 60\n",
    "seconds_per_day = seconds_per_hour * 24\n",
    "\n",
    "# Divide seconds_per_day by seconds_per_hour using floating-point division\n",
    "result = seconds_per_day / seconds_per_hour\n",
    "\n",
    "# Display the result\n",
    "print(\"Result of division:\", result)"
   ]
  },
  {
   "cell_type": "code",
   "execution_count": null,
   "metadata": {},
   "outputs": [],
   "source": [
    "#6) Divide seconds_per_day by seconds_per_hour, using integer (//) division. Did this number agree\n",
    "#   with the floating-point value from the previous question, aside from the final .0?"
   ]
  },
  {
   "cell_type": "code",
   "execution_count": 4,
   "metadata": {},
   "outputs": [
    {
     "name": "stdout",
     "output_type": "stream",
     "text": [
      "Result of integer division: 24\n"
     ]
    }
   ],
   "source": [
    "# Variables for seconds per day and seconds per hour\n",
    "seconds_per_hour = 60 * 60\n",
    "seconds_per_day = seconds_per_hour * 24\n",
    "\n",
    "# Divide seconds_per_day by seconds_per_hour using integer (floor) division\n",
    "result = seconds_per_day // seconds_per_hour\n",
    "\n",
    "# Display the result\n",
    "print(\"Result of integer division:\", result)"
   ]
  },
  {
   "cell_type": "code",
   "execution_count": null,
   "metadata": {},
   "outputs": [],
   "source": [
    "#7) Write a generator, genPrimes, that returns the sequence of prime numbers on successive calls to \n",
    "# its next() method: 2, 3, 5, 7, 11, ..."
   ]
  },
  {
   "cell_type": "code",
   "execution_count": 5,
   "metadata": {},
   "outputs": [
    {
     "name": "stdout",
     "output_type": "stream",
     "text": [
      "2\n",
      "3\n",
      "5\n",
      "7\n",
      "11\n"
     ]
    }
   ],
   "source": [
    "def is_prime(n):\n",
    "    \"\"\"Check if a number is prime.\"\"\"\n",
    "    if n <= 1:\n",
    "        return False\n",
    "    elif n <= 3:\n",
    "        return True\n",
    "    elif n % 2 == 0 or n % 3 == 0:\n",
    "        return False\n",
    "    i = 5\n",
    "    while i * i <= n:\n",
    "        if n % i == 0 or n % (i + 2) == 0:\n",
    "            return False\n",
    "        i += 6\n",
    "    return True\n",
    "\n",
    "def genPrimes():\n",
    "    \"\"\"Generator that yields prime numbers.\"\"\"\n",
    "    yield 2\n",
    "    yield 3\n",
    "    prime_candidate = 5\n",
    "    while True:\n",
    "        if is_prime(prime_candidate):\n",
    "            yield prime_candidate\n",
    "        prime_candidate += 2\n",
    "\n",
    "# Example usage:\n",
    "primes_generator = genPrimes()\n",
    "print(next(primes_generator))  # Output: 2\n",
    "print(next(primes_generator))  # Output: 3\n",
    "print(next(primes_generator))  # Output: 5\n",
    "print(next(primes_generator))  # Output: 7\n",
    "print(next(primes_generator))  # Output: 11"
   ]
  },
  {
   "cell_type": "code",
   "execution_count": null,
   "metadata": {},
   "outputs": [],
   "source": []
  }
 ],
 "metadata": {
  "kernelspec": {
   "display_name": "Python 3",
   "language": "python",
   "name": "python3"
  },
  "language_info": {
   "codemirror_mode": {
    "name": "ipython",
    "version": 3
   },
   "file_extension": ".py",
   "mimetype": "text/x-python",
   "name": "python",
   "nbconvert_exporter": "python",
   "pygments_lexer": "ipython3",
   "version": "3.8.5"
  }
 },
 "nbformat": 4,
 "nbformat_minor": 4
}
