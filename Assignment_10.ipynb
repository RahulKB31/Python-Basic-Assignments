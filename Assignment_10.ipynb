{
 "cells": [
  {
   "cell_type": "markdown",
   "metadata": {},
   "source": [
    "# Assignment_10 Python"
   ]
  },
  {
   "cell_type": "raw",
   "metadata": {},
   "source": [
    "1. How do you distinguish between shutil.copy() and shutil.copytree()?"
   ]
  },
  {
   "cell_type": "raw",
   "metadata": {},
   "source": [
    "While shutil.copy() will copy a single file, shutil.copytree() will copy an entire folder and every folder and file contained in it."
   ]
  },
  {
   "cell_type": "raw",
   "metadata": {},
   "source": [
    "import shutil, os\n",
    "shutil.copy('C:\\\\spam.txt', 'C:\\\\delicious')\n",
    "shutil.copytree('C:\\\\bacon', 'C:\\\\bacon_backup')"
   ]
  },
  {
   "cell_type": "code",
   "execution_count": null,
   "metadata": {},
   "outputs": [],
   "source": []
  },
  {
   "cell_type": "raw",
   "metadata": {},
   "source": [
    "2. What function is used to rename files??"
   ]
  },
  {
   "cell_type": "raw",
   "metadata": {},
   "source": [
    "os.rename() method in Python is used to rename a file or directory."
   ]
  },
  {
   "cell_type": "code",
   "execution_count": null,
   "metadata": {},
   "outputs": [],
   "source": []
  },
  {
   "cell_type": "raw",
   "metadata": {},
   "source": [
    "3. What is the difference between the delete functions in the send2trash and shutil modules?"
   ]
  },
  {
   "cell_type": "raw",
   "metadata": {},
   "source": [
    "The send2trash functions will move a file or folder to the recycle bin, while shutil functions will permanently delete files and folders."
   ]
  },
  {
   "cell_type": "code",
   "execution_count": null,
   "metadata": {},
   "outputs": [],
   "source": []
  },
  {
   "cell_type": "raw",
   "metadata": {},
   "source": [
    "4. ZipFile objects have a close() method just like File objects’ close() method. What ZipFile method is equivalent to File objects’ open() method?"
   ]
  },
  {
   "cell_type": "raw",
   "metadata": {},
   "source": [
    "zipfile.ZipFile() function in read-mode.\n",
    "ZipFile.open() function in read-mode."
   ]
  },
  {
   "cell_type": "raw",
   "metadata": {},
   "source": [
    "import zipfile\n",
    "with zipfile.ZipFile('mail.zip') as thezip:\n",
    "    with thezip.open('mail.txt',mode='r') as thefile:\n",
    "        print(thefile.read())"
   ]
  },
  {
   "cell_type": "code",
   "execution_count": null,
   "metadata": {},
   "outputs": [],
   "source": []
  },
  {
   "cell_type": "raw",
   "metadata": {},
   "source": [
    "5. Create a programme that searches a folder tree for files with a certain file extension (such as .pdf or .jpg). Copy these files from whatever location they are in to a new folder."
   ]
  },
  {
   "cell_type": "code",
   "execution_count": 6,
   "metadata": {},
   "outputs": [
    {
     "name": "stdout",
     "output_type": "stream",
     "text": [
      "Looking in C:\\Users\\Rahul\\ineuron\\Python\\ineuron Python Assignments\\Python Basic Assignments\\randomfolder for files with extensions of .jpeg , .ipynb\n",
      "Copying C:\\Users\\Rahul\\ineuron\\Python\\ineuron Python Assignments\\Python Basic Assignments\\randomfolder\\Assignment_1.ipynb to C:\\Users\\Rahul\\ineuron\\Python\\ineuron Python Assignments\\Python Basic Assignments\\selectiveFolder\n",
      "Copying C:\\Users\\Rahul\\ineuron\\Python\\ineuron Python Assignments\\Python Basic Assignments\\randomfolder\\Assignment_2.ipynb to C:\\Users\\Rahul\\ineuron\\Python\\ineuron Python Assignments\\Python Basic Assignments\\selectiveFolder\n"
     ]
    }
   ],
   "source": [
    "import os, shutil\n",
    "\n",
    "def selectivecopy(folder, extensions, destFolder):\n",
    "    folder = os.path.abspath(folder)\n",
    "    destFolder = os.path.abspath(destFolder)\n",
    "    print(\"Looking in\", folder, 'for files with extensions of',' , '.join(extensions))\n",
    "    for foldername, subfolders, filenames in os.walk(folder):\n",
    "        for filename in filenames:\n",
    "            name,extension = os.path.splitext(filename)\n",
    "            if extension in extensions:\n",
    "                fileAbsPath = foldername + os.path.sep + filename\n",
    "                print('Copying', fileAbsPath, 'to', destFolder)\n",
    "                shutil.copy(fileAbsPath, destFolder)\n",
    "                \n",
    "extensions = ['.jpeg','.ipynb']\n",
    "folder = r'C:\\Users\\Rahul\\ineuron\\Python\\ineuron Python Assignments\\Python Basic Assignments\\randomfolder'\n",
    "destFolder = 'selectiveFolder'\n",
    "selectivecopy(folder, extensions, destFolder)"
   ]
  },
  {
   "cell_type": "code",
   "execution_count": null,
   "metadata": {},
   "outputs": [],
   "source": []
  }
 ],
 "metadata": {
  "kernelspec": {
   "display_name": "Python 3",
   "language": "python",
   "name": "python3"
  },
  "language_info": {
   "codemirror_mode": {
    "name": "ipython",
    "version": 3
   },
   "file_extension": ".py",
   "mimetype": "text/x-python",
   "name": "python",
   "nbconvert_exporter": "python",
   "pygments_lexer": "ipython3",
   "version": "3.8.5"
  }
 },
 "nbformat": 4,
 "nbformat_minor": 4
}
